{
 "cells": [
  {
   "cell_type": "markdown",
   "id": "36c66872",
   "metadata": {},
   "source": [
    "## Lab - 4\n",
    "\n",
    "Name: Purusharth Malik\n",
    "\n",
    "Registration No.: 2348542"
   ]
  },
  {
   "cell_type": "markdown",
   "id": "a28b48da",
   "metadata": {},
   "source": [
    "### Implement fine-tuning procedures on BERT for sentiment analysis."
   ]
  },
  {
   "cell_type": "code",
   "execution_count": 27,
   "id": "dc5da9db",
   "metadata": {},
   "outputs": [],
   "source": [
    "from datasets import load_dataset\n",
    "data = load_dataset('imdb')"
   ]
  },
  {
   "cell_type": "code",
   "execution_count": 46,
   "id": "c9420f5b",
   "metadata": {},
   "outputs": [],
   "source": [
    "import torchtext\n",
    "from torch.utils.data import Dataset, DataLoader\n",
    "from transformers import AutoTokenizer\n",
    "\n",
    "torchtext.disable_torchtext_deprecation_warning()\n",
    "\n",
    "# Loading the data\n",
    "training_data = data['train']\n",
    "test_data = data['test']\n",
    "\n",
    "# Creating a Dataset class\n",
    "class IMDBDataset(Dataset):\n",
    "    def __init__(self, data, train):\n",
    "        self.train = train\n",
    "        # Initializing the tokenizer\n",
    "        tokenizer = AutoTokenizer.from_pretrained(\"bert-base-uncased\")\n",
    "        if train:\n",
    "            self.tokens = tokenizer(list(training_data['text']), \n",
    "                                          padding=True,\n",
    "                                          truncation=True)\n",
    "            self.labels = training_data['label']\n",
    "        else:\n",
    "            self.tokens = tokenizer(list(test_data['text']),\n",
    "                                         padding=True,\n",
    "                                         truncation=True)\n",
    "            self.labels = test_data['label']\n",
    "    \n",
    "    def __len__(self):\n",
    "        return len(training_data['text']) if self.train else len(test_data['text'])\n",
    "    \n",
    "    def __getitem__(self, idx):\n",
    "        sample = {}\n",
    "        # Adding the input_ids, token_type_ids, and attention masks to the samples\n",
    "        for k, v in self.tokens.items():\n",
    "            sample[k] = torch.tensor(v[idx])\n",
    "        sample['label'] = torch.tensor(self.labels[idx])\n",
    "        return sample\n",
    "    \n",
    "# Creating the datasets\n",
    "train_dataset = IMDBDataset(training_data, train=True)\n",
    "test_dataset = IMDBDataset(test_data, train=False)\n",
    "\n",
    "# Creating the dataloaders\n",
    "train_dataloader = DataLoader(train_dataset,\n",
    "                              batch_size=32,\n",
    "                              shuffle=True)\n",
    "test_dataloader = DataLoader(test_dataset,\n",
    "                             batch_size=32,\n",
    "                             shuffle=False)"
   ]
  },
  {
   "cell_type": "code",
   "execution_count": 48,
   "id": "3b608d4f",
   "metadata": {},
   "outputs": [
    {
     "data": {
      "text/plain": [
       "{'input_ids': tensor([[  101,  1045,  3473,  ...,     0,     0,     0],\n",
       "         [  101,  2054,  2001,  ...,     0,     0,     0],\n",
       "         [  101,  1996, 18988,  ...,     0,     0,     0],\n",
       "         ...,\n",
       "         [  101,  2834,  1029,  ...,     0,     0,     0],\n",
       "         [  101,  6754,  4482,  ...,     0,     0,     0],\n",
       "         [  101,  2023,  2969,  ...,     0,     0,     0]]),\n",
       " 'token_type_ids': tensor([[0, 0, 0,  ..., 0, 0, 0],\n",
       "         [0, 0, 0,  ..., 0, 0, 0],\n",
       "         [0, 0, 0,  ..., 0, 0, 0],\n",
       "         ...,\n",
       "         [0, 0, 0,  ..., 0, 0, 0],\n",
       "         [0, 0, 0,  ..., 0, 0, 0],\n",
       "         [0, 0, 0,  ..., 0, 0, 0]]),\n",
       " 'attention_mask': tensor([[1, 1, 1,  ..., 0, 0, 0],\n",
       "         [1, 1, 1,  ..., 0, 0, 0],\n",
       "         [1, 1, 1,  ..., 0, 0, 0],\n",
       "         ...,\n",
       "         [1, 1, 1,  ..., 0, 0, 0],\n",
       "         [1, 1, 1,  ..., 0, 0, 0],\n",
       "         [1, 1, 1,  ..., 0, 0, 0]]),\n",
       " 'label': tensor([1, 0, 1, 0, 1, 0, 1, 0, 1, 0, 1, 0, 1, 0, 1, 0, 0, 1, 0, 0, 1, 1, 0, 1,\n",
       "         0, 1, 0, 0, 1, 1, 0, 0])}"
      ]
     },
     "execution_count": 48,
     "metadata": {},
     "output_type": "execute_result"
    }
   ],
   "source": [
    "# Looking at a sample batch\n",
    "next(iter(train_dataloader))"
   ]
  },
  {
   "cell_type": "code",
   "execution_count": 1,
   "id": "c179c6d2",
   "metadata": {
    "scrolled": true
   },
   "outputs": [
    {
     "name": "stderr",
     "output_type": "stream",
     "text": [
      "Some weights of BertForSequenceClassification were not initialized from the model checkpoint at bert-base-uncased and are newly initialized: ['classifier.bias', 'classifier.weight']\n",
      "You should probably TRAIN this model on a down-stream task to be able to use it for predictions and inference.\n"
     ]
    }
   ],
   "source": [
    "import torch\n",
    "from transformers import BertForSequenceClassification\n",
    "\n",
    "# Loading the BERT model\n",
    "model = BertForSequenceClassification.from_pretrained('bert-base-uncased')"
   ]
  },
  {
   "cell_type": "code",
   "execution_count": 2,
   "id": "1016eb02",
   "metadata": {},
   "outputs": [
    {
     "data": {
      "text/plain": [
       "BertForSequenceClassification(\n",
       "  (bert): BertModel(\n",
       "    (embeddings): BertEmbeddings(\n",
       "      (word_embeddings): Embedding(30522, 768, padding_idx=0)\n",
       "      (position_embeddings): Embedding(512, 768)\n",
       "      (token_type_embeddings): Embedding(2, 768)\n",
       "      (LayerNorm): LayerNorm((768,), eps=1e-12, elementwise_affine=True)\n",
       "      (dropout): Dropout(p=0.1, inplace=False)\n",
       "    )\n",
       "    (encoder): BertEncoder(\n",
       "      (layer): ModuleList(\n",
       "        (0-11): 12 x BertLayer(\n",
       "          (attention): BertAttention(\n",
       "            (self): BertSdpaSelfAttention(\n",
       "              (query): Linear(in_features=768, out_features=768, bias=True)\n",
       "              (key): Linear(in_features=768, out_features=768, bias=True)\n",
       "              (value): Linear(in_features=768, out_features=768, bias=True)\n",
       "              (dropout): Dropout(p=0.1, inplace=False)\n",
       "            )\n",
       "            (output): BertSelfOutput(\n",
       "              (dense): Linear(in_features=768, out_features=768, bias=True)\n",
       "              (LayerNorm): LayerNorm((768,), eps=1e-12, elementwise_affine=True)\n",
       "              (dropout): Dropout(p=0.1, inplace=False)\n",
       "            )\n",
       "          )\n",
       "          (intermediate): BertIntermediate(\n",
       "            (dense): Linear(in_features=768, out_features=3072, bias=True)\n",
       "            (intermediate_act_fn): GELUActivation()\n",
       "          )\n",
       "          (output): BertOutput(\n",
       "            (dense): Linear(in_features=3072, out_features=768, bias=True)\n",
       "            (LayerNorm): LayerNorm((768,), eps=1e-12, elementwise_affine=True)\n",
       "            (dropout): Dropout(p=0.1, inplace=False)\n",
       "          )\n",
       "        )\n",
       "      )\n",
       "    )\n",
       "    (pooler): BertPooler(\n",
       "      (dense): Linear(in_features=768, out_features=768, bias=True)\n",
       "      (activation): Tanh()\n",
       "    )\n",
       "  )\n",
       "  (dropout): Dropout(p=0.1, inplace=False)\n",
       "  (classifier): Linear(in_features=768, out_features=2, bias=True)\n",
       ")"
      ]
     },
     "execution_count": 2,
     "metadata": {},
     "output_type": "execute_result"
    }
   ],
   "source": [
    "# Looking at the model\n",
    "model"
   ]
  },
  {
   "cell_type": "markdown",
   "id": "e4cbc5a1",
   "metadata": {},
   "source": [
    "- Fine Tuning\n",
    "\n",
    "    We will be using PEFT to train a fraction of the Bert classifier. We will also make use of mixed precision in order to train the model quickly."
   ]
  },
  {
   "cell_type": "code",
   "execution_count": null,
   "id": "ab5caecc",
   "metadata": {},
   "outputs": [],
   "source": [
    "import torch\n",
    "from transformers import BertForSequenceClassification, get_linear_schedule_with_warmup\n",
    "from peft import get_peft_model, LoraConfig, TaskType\n",
    "from torch.optim import AdamW\n",
    "from tqdm.auto import tqdm\n",
    "from torch.cuda.amp import autocast, GradScaler\n",
    "\n",
    "device = torch.device(\"cuda\" if torch.cuda.is_available() else \"cpu\")\n",
    "\n",
    "# Configuring LoRA\n",
    "peft_config = LoraConfig(\n",
    "    task_type=TaskType.SEQ_CLS,\n",
    "    r=8,\n",
    "    lora_alpha=32,\n",
    "    lora_dropout=0.1,\n",
    "    bias=\"none\",\n",
    "    target_modules=[\"query\", \"key\", \"value\", \"output.dense\"]\n",
    ")\n",
    "\n",
    "# Wrapping the model\n",
    "model = get_peft_model(model, peft_config)\n",
    "model.print_trainable_parameters()\n",
    "\n",
    "# Moving the model to the GPU\n",
    "model.to(device)\n",
    "\n",
    "# Initializing GradScaler\n",
    "scaler = GradScaler()\n",
    "\n",
    "num_epochs = 3\n",
    "total_steps = num_epochs * len(train_dataloader)\n",
    "\n",
    "# Initializing the optimizer\n",
    "optimizer = AdamW(model.parameters(), lr=2e-5)\n",
    "\n",
    "# Learning rate scheduler\n",
    "scheduler = get_linear_schedule_with_warmup(\n",
    "    optimizer,\n",
    "    num_warmup_steps=0,\n",
    "    num_training_steps=len(train_dataloader) * num_epochs\n",
    ")\n",
    "\n",
    "# Configuring the loss function\n",
    "criterion = torch.nn.CrossEntropyLoss()\n",
    "\n",
    "for epoch in range(num_epochs):\n",
    "    model.train()\n",
    "    total_loss = 0\n",
    "    \n",
    "    progress_bar = tqdm(train_dataloader, desc=f\"Epoch: {epoch+1}/{num_epochs}\")\n",
    "    \n",
    "    for batch in progress_bar:\n",
    "        batch = {k: v.to(device) for k, v in batch.items()}\n",
    "        \n",
    "        optimizer.zero_grad()\n",
    "        \n",
    "        # Use autocast for mixed precision\n",
    "        with autocast():\n",
    "            output = model(batch['input_ids'],\n",
    "                           attention_mask=batch['attention_mask'])\n",
    "            \n",
    "            pred = output.logits\n",
    "            loss = criterion(pred, batch['label'])\n",
    "        \n",
    "        # Scale the loss and call backward\n",
    "        scaler.scale(loss).backward()\n",
    "        \n",
    "        # Unscale the gradients, clip them, and update the parameters\n",
    "        scaler.unscale_(optimizer)\n",
    "        torch.nn.utils.clip_grad_norm_(model.parameters(), max_norm=1.0)\n",
    "        scaler.step(optimizer)\n",
    "        scaler.update()\n",
    "        \n",
    "        scheduler.step()\n",
    "        \n",
    "        total_loss += loss.item()\n",
    "        \n",
    "        # Update progress bar with current loss\n",
    "        progress_bar.set_postfix({'Loss': f\"{loss.item():.4f}\"})\n",
    "\n",
    "    # Print average loss for the epoch\n",
    "    avg_loss = total_loss / len(train_dataloader)\n",
    "    print(f\"Average loss for epoch {epoch+1}: {avg_loss:.4f}\")"
   ]
  },
  {
   "attachments": {
    "image.png": {
     "image/png": "[encoded data removed]"
    }
   },
   "cell_type": "markdown",
   "id": "0cf71732",
   "metadata": {},
   "source": [
    "![image.png](attachment:image.png)"
   ]
  },
  {
   "cell_type": "markdown",
   "id": "05e2ddac",
   "metadata": {},
   "source": [
    "We will now write an evaluation loop,"
   ]
  },
  {
   "cell_type": "code",
   "execution_count": null,
   "id": "1e3770d7",
   "metadata": {},
   "outputs": [],
   "source": [
    "from sklearn.metrics import accuracy_score, precision_recall_fscore_support\n",
    "\n",
    "def evaluate(model, dataloader, criterion, device):\n",
    "    model.eval()\n",
    "    total_loss = 0\n",
    "    all_preds = []\n",
    "    all_labels = []\n",
    "    \n",
    "    # Disabling the gradient calculation\n",
    "    with torch.no_grad():\n",
    "        # Writing the evaluation loop\n",
    "        for batch in tqdm(dataloader, desc=\"Evaluating\"):\n",
    "            batch = {k: v.to(device) for k, v in batch.items()}\n",
    "            \n",
    "            # Inferencing the model\n",
    "            outputs = model(batch['input_ids'], attention_mask=batch['attention_mask'])\n",
    "            logits = outputs.logits\n",
    "            \n",
    "            # Calculating the loss\n",
    "            loss = criterion(logits, batch['label'])\n",
    "            total_loss += loss.item()\n",
    "            \n",
    "            # Making the predictions\n",
    "            preds = torch.argmax(logits, dim=1)\n",
    "            all_preds.extend(preds.cpu().numpy())\n",
    "            all_labels.extend(batch['label'].cpu().numpy())\n",
    "    \n",
    "    # Calculate average loss\n",
    "    avg_loss = total_loss / len(dataloader)\n",
    "    \n",
    "    # Calculate metrics\n",
    "    accuracy = accuracy_score(all_labels, all_preds)\n",
    "    precision, recall, f1, _ = precision_recall_fscore_support(all_labels, all_preds, average='weighted')\n",
    "    \n",
    "    return {\n",
    "        'loss': avg_loss,\n",
    "        'accuracy': accuracy,\n",
    "        'precision': precision,\n",
    "        'recall': recall,\n",
    "        'f1': f1\n",
    "    }\n",
    "\n",
    "# Assuming you have a validation dataloader called val_dataloader\n",
    "val_results = evaluate(model, test_dataloader, criterion, device)\n",
    "\n",
    "print(\"Validation Results:\")\n",
    "for metric, value in val_results.items():\n",
    "    print(f\"{metric.capitalize()}: {value:.4f}\")"
   ]
  },
  {
   "attachments": {
    "image.png": {
     "image/png": "[encoded data removed]"
    }
   },
   "cell_type": "markdown",
   "id": "2c9547c8",
   "metadata": {},
   "source": [
    "![image.png](attachment:image.png)"
   ]
  },
  {
   "cell_type": "code",
   "execution_count": null,
   "id": "843cc200",
   "metadata": {},
   "outputs": [],
   "source": [
    "text = \"Some people are good at being bad.\"\n",
    "\n",
    "# Tokenizing the text\n",
    "tokenizer = AutoTokenizer.from_pretrained(\"bert-base-uncased\",\n",
    "                                          return_tensors='pt')\n",
    "tokens = tokenizer(text)\n",
    "\n",
    "with torch.no_grad():\n",
    "    # Sending the input_ids and attention_mask to the GPU\n",
    "    input_ids = torch.tensor(tokens['input_ids']).unsqueeze(0).to(device)\n",
    "    attention_mask = torch.tensor(tokens['attention_mask']).unsqueeze(0).to(device)\n",
    "\n",
    "    # Making the predictions\n",
    "    outputs = model(input_ids, attention_mask=attention_mask)\n",
    "    logits = outputs.logits\n",
    "    probabilities = torch.softmax(logits, dim=1)\n",
    "    predicted_class = torch.argmax(probabilities, dim=1).item()\n",
    "\n",
    "sentiment_map = {0: \"Negative\", 1: \"Neutral\", 2: \"Positive\"}\n",
    "sentiment = sentiment_map[predicted_class]\n",
    "confidence = probabilities[0][predicted_class].item()\n",
    "print(f\"Sentiment: {sentiment}\\nConfidence: {confidence:.4f}\")"
   ]
  },
  {
   "attachments": {
    "image.png": {
     "image/png": "[encoded data removed]"
    }
   },
   "cell_type": "markdown",
   "id": "3dbb41dc",
   "metadata": {},
   "source": [
    "![image.png](attachment:image.png)"
   ]
  },
  {
   "cell_type": "markdown",
   "id": "f67abeff",
   "metadata": {},
   "source": [
    "# End"
   ]
  }
 ],
 "metadata": {
  "kernelspec": {
   "display_name": "Python 3 (ipykernel)",
   "language": "python",
   "name": "python3"
  },
  "language_info": {
   "codemirror_mode": {
    "name": "ipython",
    "version": 3
   },
   "file_extension": ".py",
   "mimetype": "text/x-python",
   "name": "python",
   "nbconvert_exporter": "python",
   "pygments_lexer": "ipython3",
   "version": "3.11.9"
  }
 },
 "nbformat": 4,
 "nbformat_minor": 5
}
