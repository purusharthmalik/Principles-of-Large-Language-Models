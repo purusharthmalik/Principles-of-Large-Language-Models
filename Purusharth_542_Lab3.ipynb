{
 "cells": [
  {
   "cell_type": "markdown",
   "id": "5818aaab",
   "metadata": {},
   "source": [
    "## Lab - 3\n",
    "\n",
    "Name: Purusharth Malik\n",
    "\n",
    "Registration No.: 2348542"
   ]
  },
  {
   "cell_type": "markdown",
   "id": "3b638fdf",
   "metadata": {},
   "source": [
    "### Implement a story generation Natural Language Generation using any transformer-based Foundation models."
   ]
  },
  {
   "cell_type": "code",
   "execution_count": 5,
   "id": "b8c5c94a",
   "metadata": {},
   "outputs": [
    {
     "name": "stdout",
     "output_type": "stream",
     "text": [
      "\n",
      "Enter a topic: Indian Army\n",
      "\n",
      "Story: **The Bravehearts of the Himalayas**\n",
      "\n",
      "In the snow-capped mountains of Ladakh, where the winds howled like a chorus of wolves and the air was crisp as a freshly laundered flag, stood the mighty Indian Army's 14th Battalion, affectionately known as the \"Himalayan Heroes.\" Their base, nestled in the heart of the rugged terrain, was a testament to the unwavering spirit of the brave men and women who called it home.\n",
      "\n",
      "It was a chilly winter morning when Captain Rohan \"Rocky\" Rao, a seasoned officer with a rugged jawline and piercing brown eyes, received an urgent message from HQ. Intelligence reports suggested that a group of rogue militants had infiltrated the border, seeking to disrupt the fragile peace in the region. Rocky's team was tasked with tracking them down and bringing them to justice.\n",
      "\n",
      "As the sun rose over the Himalayas, casting a golden glow over the snow-covered peaks, Rocky assembled his team of elite soldiers. There was Lieutenant Ramesh \"Rambo\" Rao, a lanky, soft-spoken officer with a talent for marksmanship; Havildar (Sergeant) Kavita \"Kavi\" Singh, a no-nonsense, sharp-witted veteran with a penchant for hand-to-hand combat; and Sepoy (Private) Ajay \"AJ\" Jain, a young, enthusiastic recruit with a passion for technology and hacking.\n",
      "\n",
      "Together, they set out on their perilous mission, navigating treacherous mountain trails and crossing icy rivers. The biting cold and thin air made every step a challenge, but the Himalayan Heroes pressed on, driven by their unwavering dedication to their country.\n",
      "\n",
      "As they climbed higher, the silence was broken only by the crunch of snow beneath their boots and the occasional howl of a distant wolf. Suddenly, Rambo's keen eyes spotted a suspicious movement in the distance. Rocky gave the signal, and the team fanned out, taking cover behind boulders and trees.\n",
      "\n",
      "A tense standoff ensued as the militants, heavily armed and camouflaged, emerged from the shadows. Rocky's team held their ground, their training and experience kicking in as they expertly pinned down the enemy with precision fire. Kavi, with her lightning-quick reflexes, took down two militants with her trusty rifle, while AJ hacked into the enemy's communication systems, disrupting their coordination.\n",
      "\n",
      "As the battle raged on, Rocky led the charge, fearlessly advancing on the militants' position. Rambo provided cover fire, picking off targets with deadly accuracy. The enemy, caught off guard by the Himalayan Heroes' bravery and skill, began to falter.\n",
      "\n",
      "In the heat of the battle, Rocky's team received an unexpected boost. A group of local villagers, inspired by the soldiers' bravery, joined the fight, armed with whatever they could find – sticks, stones, and even kitchen utensils. Together, the soldiers and villagers fought side by side, driving the militants back and reclaiming their territory.\n",
      "\n",
      "As the dust settled, the Himalayan Heroes stood victorious, their bond stronger than ever. Rocky's team had not only protected their nation's borders but had also earned the respect and gratitude of the local people. As they made their way back to their base, the villagers cheered and chanted their names, hailing them as heroes.\n",
      "\n",
      "In the mess hall that evening, over steaming cups of chai and plates of hot, spicy food, the team relived the battle, their laughter and banter filling the air. Rocky, with a proud smile, raised his cup in a toast: \"To the bravest of the brave, the Himalayan Heroes! May our spirit never falter, and our hearts always remain true to our nation!\"\n",
      "\n",
      "The team echoed the toast, their voices ringing out across the mountains, a testament to the unbreakable bond between the Indian Army and the people they protected. For in the harsh, majestic landscape of the Himalayas, the Bravehearts of the 14th Battalion stood watch, ever vigilant, ever ready to defend their nation and its people.\n"
     ]
    }
   ],
   "source": [
    "from langchain_groq import ChatGroq\n",
    "from langchain_core.prompts import PromptTemplate\n",
    "\n",
    "groq_api = 'GROQ_API_KEY'\n",
    "\n",
    "# Creating an llm instance\n",
    "llm = ChatGroq(temperature=0,\n",
    "               model='llama3-70b-8192',\n",
    "               api_key=groq_api)\n",
    "\n",
    "# Formatting the prompt\n",
    "prompt = PromptTemplate(template=\"You are an expert storyteller. Generate a fun and engaging story on {topic}.\",\n",
    "                        input_variables=[\"topic\"])\n",
    "\n",
    "# Creating a chain\n",
    "chain = prompt | llm\n",
    "\n",
    "# Inferencing the chatbot\n",
    "topic = input(\"\\nEnter a topic: \")\n",
    "print(f\"\\nStory: {chain.invoke(topic).content}\")"
   ]
  },
  {
   "cell_type": "markdown",
   "id": "f2ed8c1f",
   "metadata": {},
   "source": [
    "# End"
   ]
  }
 ],
 "metadata": {
  "kernelspec": {
   "display_name": "Python 3 (ipykernel)",
   "language": "python",
   "name": "python3"
  },
  "language_info": {
   "codemirror_mode": {
    "name": "ipython",
    "version": 3
   },
   "file_extension": ".py",
   "mimetype": "text/x-python",
   "name": "python",
   "nbconvert_exporter": "python",
   "pygments_lexer": "ipython3",
   "version": "3.11.9"
  }
 },
 "nbformat": 4,
 "nbformat_minor": 5
}
